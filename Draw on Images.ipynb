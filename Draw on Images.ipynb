{
 "cells": [
  {
   "cell_type": "markdown",
   "id": "69463168-6304-4e1f-bdd9-a3b126d628d0",
   "metadata": {},
   "source": [
    "### Example 1: Draw on a blank canvas."
   ]
  },
  {
   "cell_type": "code",
   "execution_count": 3,
   "id": "de3b9eb9-4908-4513-9d26-efe4eff75d6b",
   "metadata": {},
   "outputs": [],
   "source": [
    "import cv2\n",
    "import numpy as np\n",
    "\n",
    "# Create a blank image (black canvas)\n",
    "# 512x512 pixels, 3 color channels (RGB), uint8 type\n",
    "img = np.zeros((512, 512, 3), dtype=np.uint8)\n",
    "\n",
    "# Draw a line: cv2.line(image, start_point, end_point, color, thickness)\n",
    "cv2.line(img, (50, 50), (450, 50), (255, 0, 0), 5)  # Blue line\n",
    "\n",
    "# Draw a rectangle: cv2.rectangle(image, top_left, bottom_right, color, thickness)\n",
    "cv2.rectangle(img, (100, 100), (400, 300), (0, 255, 0), 3)  # Green rectangle\n",
    "\n",
    "# Draw a filled rectangle (thickness = -1)\n",
    "cv2.rectangle(img, (120, 120), (380, 280), (0, 255, 0), -1)\n",
    "\n",
    "# Draw a circle: cv2.circle(image, center, radius, color, thickness)\n",
    "cv2.circle(img, (256, 256), 50, (0, 0, 255), 5)  # Red circle\n",
    "\n",
    "# Draw an ellipse: cv2.ellipse(image, center, axes, angle, startAngle, endAngle, color, thickness)\n",
    "cv2.ellipse(img, (256, 256), (100, 50), 0, 0, 360, (255, 255, 0), 2)\n",
    "\n",
    "# Draw a polygon\n",
    "pts = np.array([[100, 400], [200, 350], [300, 400], [200, 450]], np.int32)\n",
    "cv2.polylines(img, [pts], isClosed=True, color=(255, 255, 255), thickness=2)\n",
    "\n",
    "# Add text\n",
    "cv2.putText(img, \"OpenCV Drawing\", (100, 500), cv2.FONT_HERSHEY_SIMPLEX, 1, (255, 255, 255), 2)\n",
    "\n",
    "# Display the image\n",
    "cv2.imshow(\"Drawings\", img)\n",
    "cv2.waitKey(0)\n",
    "cv2.destroyAllWindows()\n"
   ]
  },
  {
   "cell_type": "markdown",
   "id": "3f2a652d-b9dc-4177-89e0-e001bc4710aa",
   "metadata": {},
   "source": [
    "### Example 2: Draw on a real image."
   ]
  },
  {
   "cell_type": "code",
   "execution_count": 5,
   "id": "1e8fef99-9927-4d19-8019-8ac90b08c2df",
   "metadata": {},
   "outputs": [],
   "source": [
    "# Load an image\n",
    "img = cv2.imread(\"people.jpg\")\n",
    "\n",
    "# Draw a red rectangle around a region of interest\n",
    "cv2.rectangle(img, (50, 50), (300, 200), (0, 0, 255), 2)\n",
    "\n",
    "# Add label text\n",
    "cv2.putText(img, \"Object\", (60, 45), cv2.FONT_HERSHEY_SIMPLEX, 0.8, (0, 0, 255), 2)\n",
    "\n",
    "cv2.imshow(\"Annotated Image\", img)\n",
    "cv2.waitKey(0)\n",
    "cv2.destroyAllWindows()\n"
   ]
  },
  {
   "cell_type": "markdown",
   "id": "04b3338e-974b-4e3d-8a19-2a4b1eb37c8c",
   "metadata": {},
   "source": [
    "### Example 3: Mouse Drawing (Interactive)"
   ]
  },
  {
   "cell_type": "code",
   "execution_count": 6,
   "id": "b0b35479-6c39-4345-97d4-1dea2492a91c",
   "metadata": {},
   "outputs": [],
   "source": [
    "import cv2\n",
    "import numpy as np\n",
    "\n",
    "drawing = False  # True when mouse is pressed\n",
    "ix, iy = -1, -1  # Initial coordinates\n",
    "\n",
    "# Mouse callback function\n",
    "def draw_circle(event, x, y, flags, param):\n",
    "    global ix, iy, drawing\n",
    "\n",
    "    if event == cv2.EVENT_LBUTTONDOWN:\n",
    "        drawing = True\n",
    "        ix, iy = x, y\n",
    "    elif event == cv2.EVENT_MOUSEMOVE:\n",
    "        if drawing:\n",
    "            cv2.circle(img, (x, y), 5, (0, 255, 0), -1)\n",
    "    elif event == cv2.EVENT_LBUTTONUP:\n",
    "        drawing = False\n",
    "        cv2.circle(img, (x, y), 5, (0, 255, 0), -1)\n",
    "\n",
    "# Create a black image and window\n",
    "img = np.zeros((512, 512, 3), np.uint8)\n",
    "cv2.namedWindow('Paint')\n",
    "cv2.setMouseCallback('Paint', draw_circle)\n",
    "\n",
    "while True:\n",
    "    cv2.imshow('Paint', img)\n",
    "    if cv2.waitKey(1) & 0xFF == 27:  # ESC to exit\n",
    "        break\n",
    "\n",
    "cv2.destroyAllWindows()\n"
   ]
  },
  {
   "cell_type": "markdown",
   "id": "16c37aa2-71b6-4a97-8fa8-48e899c4c99d",
   "metadata": {},
   "source": [
    "### Draw Bounding Boxes Around Detected Contours."
   ]
  },
  {
   "cell_type": "code",
   "execution_count": 8,
   "id": "afb22271-de89-4ee2-b70e-7097dee17862",
   "metadata": {},
   "outputs": [],
   "source": [
    "import cv2\n",
    "import numpy as np\n",
    "\n",
    "# Load or create a test image\n",
    "img = np.zeros((400, 400, 3), dtype=np.uint8)\n",
    "cv2.circle(img, (100, 200), 50, (255, 255, 255), -1)\n",
    "cv2.rectangle(img, (200, 150), (300, 250), (255, 255, 255), -1)\n",
    "cv2.line(img, (320, 100), (380, 200), (255, 255, 255), 5)\n",
    "\n",
    "# Convert to grayscale and threshold\n",
    "gray = cv2.cvtColor(img, cv2.COLOR_BGR2GRAY)\n",
    "ret, thresh = cv2.threshold(gray, 127, 255, cv2.THRESH_BINARY)\n",
    "\n",
    "# Find contours\n",
    "contours, hierarchy = cv2.findContours(thresh, cv2.RETR_EXTERNAL, cv2.CHAIN_APPROX_SIMPLE)\n",
    "\n",
    "# Draw contours and bounding boxes\n",
    "for c in contours:\n",
    "    # Contour boundary in green\n",
    "    cv2.drawContours(img, [c], -1, (0, 255, 0), 2)\n",
    "\n",
    "    # Bounding rectangle in red\n",
    "    x, y, w, h = cv2.boundingRect(c)\n",
    "    cv2.rectangle(img, (x, y), (x + w, y + h), (0, 0, 255), 2)\n",
    "\n",
    "    # Label\n",
    "    cv2.putText(img, f\"({x},{y})\", (x, y - 10), cv2.FONT_HERSHEY_SIMPLEX, 0.5, (0, 255, 255), 1)\n",
    "\n",
    "cv2.imshow(\"Contours & Bounding Boxes\", img)\n",
    "cv2.waitKey(0)\n",
    "cv2.destroyAllWindows()\n"
   ]
  },
  {
   "cell_type": "code",
   "execution_count": null,
   "id": "efc3cad4-c07c-42e9-b365-2927ad9ae493",
   "metadata": {},
   "outputs": [],
   "source": []
  },
  {
   "cell_type": "code",
   "execution_count": 9,
   "id": "db3b27c4-7bb6-4eb7-81aa-1612c0f93156",
   "metadata": {},
   "outputs": [],
   "source": [
    "import cv2\n",
    "\n",
    "# Load image\n",
    "img = cv2.imread(\"people.jpg\")\n",
    "gray = cv2.cvtColor(img, cv2.COLOR_BGR2GRAY)\n",
    "\n",
    "# Detect edges\n",
    "edges = cv2.Canny(gray, 100, 200)\n",
    "\n",
    "# Find contours from edges\n",
    "contours, hierarchy = cv2.findContours(edges, cv2.RETR_EXTERNAL, cv2.CHAIN_APPROX_SIMPLE)\n",
    "\n",
    "# Draw bounding boxes for large enough contours\n",
    "for c in contours:\n",
    "    area = cv2.contourArea(c)\n",
    "    if area > 500:  # filter noise\n",
    "        x, y, w, h = cv2.boundingRect(c)\n",
    "        cv2.rectangle(img, (x, y), (x + w, y + h), (0, 255, 0), 2)\n",
    "\n",
    "cv2.imshow(\"Edges + Boxes\", img)\n",
    "cv2.waitKey(0)\n",
    "cv2.destroyAllWindows()\n"
   ]
  },
  {
   "cell_type": "markdown",
   "id": "778cc47f-66de-44ea-847c-cc0a2bcc4c8b",
   "metadata": {},
   "source": [
    "### Combine Drawing + Image Processing (Colored Objects)\n",
    "\n",
    "Here’s how to detect colored objects (say, red items) and draw bounding boxes."
   ]
  },
  {
   "cell_type": "code",
   "execution_count": 15,
   "id": "7c8f2a52-16e2-46fc-8f11-d10dde4c403d",
   "metadata": {},
   "outputs": [],
   "source": [
    "import cv2\n",
    "import numpy as np\n",
    "\n",
    "# Load image\n",
    "img = cv2.imread(\"..\\\\OpenCV Demos\\\\fruits.jpg\")\n",
    "\n",
    "# Convert to HSV color space\n",
    "hsv = cv2.cvtColor(img, cv2.COLOR_BGR2HSV)\n",
    "\n",
    "# Define color range for red (two ranges for red hue)\n",
    "lower_red1 = np.array([0, 120, 70])\n",
    "upper_red1 = np.array([10, 255, 255])\n",
    "lower_red2 = np.array([170, 120, 70])\n",
    "upper_red2 = np.array([180, 255, 255])\n",
    "\n",
    "# Mask for red color\n",
    "mask1 = cv2.inRange(hsv, lower_red1, upper_red1)\n",
    "mask2 = cv2.inRange(hsv, lower_red2, upper_red2)\n",
    "mask = cv2.bitwise_or(mask1, mask2)\n",
    "\n",
    "# Find contours in the mask\n",
    "contours, _ = cv2.findContours(mask, cv2.RETR_EXTERNAL, cv2.CHAIN_APPROX_SIMPLE)\n",
    "\n",
    "# Draw bounding boxes\n",
    "for c in contours:\n",
    "    area = cv2.contourArea(c)\n",
    "    if area > 500:\n",
    "        x, y, w, h = cv2.boundingRect(c)\n",
    "        cv2.rectangle(img, (x, y), (x + w, y + h), (0, 255, 0), 2)\n",
    "        cv2.putText(img, \"Red Object\", (x, y - 10), cv2.FONT_HERSHEY_SIMPLEX, 0.6, (0, 255, 0), 2)\n",
    "\n",
    "cv2.imshow(\"Detected Red Objects\", img)\n",
    "cv2.waitKey(0)\n",
    "cv2.destroyAllWindows()\n"
   ]
  },
  {
   "cell_type": "markdown",
   "id": "399a76b8-6a78-4d27-a700-6ab2b07e7ef7",
   "metadata": {},
   "source": [
    "### Blend overlay with image."
   ]
  },
  {
   "cell_type": "code",
   "execution_count": 16,
   "id": "24e4adfc-a490-4b77-b6b0-74b06b2acfd5",
   "metadata": {},
   "outputs": [],
   "source": [
    "overlay = img.copy()\n",
    "cv2.rectangle(overlay, (50, 50), (250, 200), (0, 255, 0), -1)\n",
    "alpha = 0.4  # transparency factor\n",
    "\n",
    "# Blend overlay with image\n",
    "img_new = cv2.addWeighted(overlay, alpha, img, 1 - alpha, 0)\n",
    "cv2.imshow(\"Blend Overlay\", img_new)\n",
    "cv2.waitKey(0)\n",
    "cv2.destroyAllWindows()"
   ]
  },
  {
   "cell_type": "markdown",
   "id": "d8a683c2-aa37-4bbb-affd-36b2624e6191",
   "metadata": {},
   "source": [
    "### 🧩 Step 1 — Draw Rectangle with Mouse (ROI Selection)"
   ]
  },
  {
   "cell_type": "code",
   "execution_count": 17,
   "id": "e13ce534-6a69-48e0-9d3c-59fb02ebe84a",
   "metadata": {},
   "outputs": [
    {
     "name": "stdout",
     "output_type": "stream",
     "text": [
      "ROI selected: Top-left (150,16), Bottom-right (251,162)\n",
      "ROI selected: Top-left (371,167), Bottom-right (325,312)\n"
     ]
    }
   ],
   "source": [
    "import cv2\n",
    "\n",
    "# Load image\n",
    "img = cv2.imread(\"people.jpg\")\n",
    "clone = img.copy()\n",
    "\n",
    "drawing = False\n",
    "ix, iy = -1, -1\n",
    "\n",
    "# Mouse callback function\n",
    "def draw_rectangle(event, x, y, flags, param):\n",
    "    global ix, iy, drawing, img\n",
    "\n",
    "    if event == cv2.EVENT_LBUTTONDOWN:\n",
    "        drawing = True\n",
    "        ix, iy = x, y\n",
    "\n",
    "    elif event == cv2.EVENT_MOUSEMOVE:\n",
    "        if drawing:\n",
    "            temp = clone.copy()\n",
    "            cv2.rectangle(temp, (ix, iy), (x, y), (0, 255, 0), 2)\n",
    "            cv2.imshow(\"Draw ROI\", temp)\n",
    "\n",
    "    elif event == cv2.EVENT_LBUTTONUP:\n",
    "        drawing = False\n",
    "        cv2.rectangle(img, (ix, iy), (x, y), (0, 255, 0), 2)\n",
    "        cv2.imshow(\"Draw ROI\", img)\n",
    "        print(f\"ROI selected: Top-left ({ix},{iy}), Bottom-right ({x},{y})\")\n",
    "\n",
    "cv2.namedWindow(\"Draw ROI\")\n",
    "cv2.setMouseCallback(\"Draw ROI\", draw_rectangle)\n",
    "\n",
    "cv2.imshow(\"Draw ROI\", img)\n",
    "cv2.waitKey(0)\n",
    "cv2.destroyAllWindows()\n"
   ]
  },
  {
   "cell_type": "markdown",
   "id": "e1245216-5e59-4479-a08d-656301816424",
   "metadata": {},
   "source": [
    "### 🧩 Step 2 — Crop the Selected ROI Automatically\n",
    "\n",
    "We can extend the previous example to crop and show the selected region after drawing:"
   ]
  },
  {
   "cell_type": "code",
   "execution_count": 18,
   "id": "a8371f6a-d82f-4fbe-98c7-1cd3287f043c",
   "metadata": {},
   "outputs": [],
   "source": [
    "import cv2\n",
    "\n",
    "img = cv2.imread(\"people.jpg\")\n",
    "clone = img.copy()\n",
    "drawing = False\n",
    "ix, iy = -1, -1\n",
    "\n",
    "def draw_rectangle(event, x, y, flags, param):\n",
    "    global ix, iy, drawing, img\n",
    "\n",
    "    if event == cv2.EVENT_LBUTTONDOWN:\n",
    "        drawing = True\n",
    "        ix, iy = x, y\n",
    "\n",
    "    elif event == cv2.EVENT_MOUSEMOVE and drawing:\n",
    "        temp = clone.copy()\n",
    "        cv2.rectangle(temp, (ix, iy), (x, y), (255, 0, 0), 2)\n",
    "        cv2.imshow(\"Select ROI\", temp)\n",
    "\n",
    "    elif event == cv2.EVENT_LBUTTONUP:\n",
    "        drawing = False\n",
    "        cv2.rectangle(img, (ix, iy), (x, y), (255, 0, 0), 2)\n",
    "        cv2.imshow(\"Select ROI\", img)\n",
    "        x1, y1 = min(ix, x), min(iy, y)\n",
    "        x2, y2 = max(ix, x), max(iy, y)\n",
    "        roi = clone[y1:y2, x1:x2]\n",
    "        if roi.size > 0:\n",
    "            cv2.imshow(\"Cropped ROI\", roi)\n",
    "\n",
    "cv2.namedWindow(\"Select ROI\")\n",
    "cv2.setMouseCallback(\"Select ROI\", draw_rectangle)\n",
    "\n",
    "cv2.imshow(\"Select ROI\", img)\n",
    "cv2.waitKey(0)\n",
    "cv2.destroyAllWindows()"
   ]
  },
  {
   "cell_type": "markdown",
   "id": "b0438b0e-4e97-48ad-be3e-c7c6de875d4c",
   "metadata": {},
   "source": [
    "### 🧩 Step 3 — Multi-Object Annotation Tool (Intermediate)\n",
    "\n",
    "Let’s make it record all rectangles you draw (for dataset labeling):"
   ]
  },
  {
   "cell_type": "code",
   "execution_count": 22,
   "id": "bc459bbd-5e73-4a31-a83b-14695aedb1a1",
   "metadata": {},
   "outputs": [
    {
     "name": "stdout",
     "output_type": "stream",
     "text": [
      "Added ROI: ((247, 124), (326, 183))\n",
      "Added ROI: ((435, 148), (508, 206))\n",
      "Added ROI: ((71, 302), (208, 397))\n",
      "Added ROI: ((555, 374), (674, 445))\n",
      "Final ROIs: [((247, 124), (326, 183)), ((435, 148), (508, 206)), ((71, 302), (208, 397)), ((555, 374), (674, 445))]\n"
     ]
    }
   ],
   "source": [
    "import cv2\n",
    "\n",
    "img = cv2.imread(\"people.jpg\")\n",
    "clone = img.copy()\n",
    "rectangles = []\n",
    "drawing = False\n",
    "ix, iy = -1, -1\n",
    "\n",
    "def draw_rectangle(event, x, y, flags, param):\n",
    "    global ix, iy, drawing, img\n",
    "\n",
    "    if event == cv2.EVENT_LBUTTONDOWN:\n",
    "        drawing = True\n",
    "        ix, iy = x, y\n",
    "\n",
    "    elif event == cv2.EVENT_MOUSEMOVE and drawing:\n",
    "        temp = clone.copy()\n",
    "        for rect in rectangles:\n",
    "            cv2.rectangle(temp, rect[0], rect[1], (0, 255, 0), 2)\n",
    "        cv2.rectangle(temp, (ix, iy), (x, y), (0, 0, 255), 2)\n",
    "        cv2.imshow(\"Annotate\", temp)\n",
    "\n",
    "    elif event == cv2.EVENT_LBUTTONUP:\n",
    "        drawing = False\n",
    "        cv2.rectangle(img, (ix, iy), (x, y), (0, 255, 0), 2)\n",
    "        rectangles.append(((ix, iy), (x, y)))\n",
    "        print(f\"Added ROI: {rectangles[-1]}\")\n",
    "        cv2.imshow(\"Annotate\", img)\n",
    "\n",
    "cv2.namedWindow(\"Annotate\")\n",
    "cv2.setMouseCallback(\"Annotate\", draw_rectangle)\n",
    "\n",
    "cv2.imshow(\"Annotate\", img)\n",
    "cv2.waitKey(0)\n",
    "cv2.destroyAllWindows()\n",
    "\n",
    "print(\"Final ROIs:\", rectangles)\n"
   ]
  },
  {
   "cell_type": "code",
   "execution_count": null,
   "id": "c150ec11-f81e-4857-b42e-b38b057d62fd",
   "metadata": {},
   "outputs": [],
   "source": []
  },
  {
   "cell_type": "code",
   "execution_count": null,
   "id": "72fe4c60-91c5-43ad-a9ce-338b4c0bbde9",
   "metadata": {},
   "outputs": [],
   "source": []
  }
 ],
 "metadata": {
  "kernelspec": {
   "display_name": "Python 3 (ipykernel)",
   "language": "python",
   "name": "python3"
  },
  "language_info": {
   "codemirror_mode": {
    "name": "ipython",
    "version": 3
   },
   "file_extension": ".py",
   "mimetype": "text/x-python",
   "name": "python",
   "nbconvert_exporter": "python",
   "pygments_lexer": "ipython3",
   "version": "3.13.3"
  }
 },
 "nbformat": 4,
 "nbformat_minor": 5
}
